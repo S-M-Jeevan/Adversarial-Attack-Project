{
 "cells": [
  {
   "cell_type": "code",
   "execution_count": 1,
   "id": "19d24ce3-5174-4e17-ba57-1c0d22255500",
   "metadata": {},
   "outputs": [
    {
     "name": "stdout",
     "output_type": "stream",
     "text": [
      "Successfully read with encoding latin1\n",
      "                                           Statement  Label\n",
      "0  WHO praises India's Aarogya Setu app, says it ...      1\n",
      "1  In Delhi, Deputy US Secretary of State Stephen...      1\n",
      "2  LAC tensions: China's strategy behind delibera...      1\n",
      "3  India has signed 250 documents on Space cooper...      1\n",
      "4  Tamil Nadu chief minister's mother passes away...      1\n",
      "Shape: (4261, 2)\n",
      "Columns: ['Statement', 'Label']\n",
      "Missing values per column:\n",
      " Statement    0\n",
      "Label        0\n",
      "dtype: int64\n"
     ]
    }
   ],
   "source": [
    "import pandas as pd\n",
    "\n",
    "# Try different encodings if utf-8 fails\n",
    "for enc in ['latin1', 'ISO-8859-1', 'cp1252']:\n",
    "    try:\n",
    "        df = pd.read_csv('IFND.csv', encoding=enc)\n",
    "        print(f\"Successfully read with encoding {enc}\")\n",
    "        print(df.head())\n",
    "        print(\"Shape:\", df.shape)\n",
    "        print(\"Columns:\", df.columns.tolist())\n",
    "        print(\"Missing values per column:\\n\", df.isnull().sum())\n",
    "        break\n",
    "    except Exception as e:\n",
    "        print(f\"Failed with {enc}: {e}\")\n"
   ]
  },
  {
   "cell_type": "code",
   "execution_count": 2,
   "id": "e7ffd9e8-ea79-4a28-8e05-7890485b9c8a",
   "metadata": {},
   "outputs": [],
   "source": [
    "df['Statement'] = df['Statement'].astype(str).str.strip()\n"
   ]
  },
  {
   "cell_type": "code",
   "execution_count": 3,
   "id": "bcb4b3ad-1a4e-4b5c-b1e8-fb4e72352eb0",
   "metadata": {},
   "outputs": [],
   "source": [
    "import re\n",
    "\n",
    "def clean_text(text):\n",
    "    # Remove typical corrupted patterns\n",
    "    text = re.sub(r'[%‰Ûª]+', '', text)\n",
    "    # Remove any non-printable or non-ASCII characters\n",
    "    text = re.sub(r'[^\\x00-\\x7F]+', ' ', text)\n",
    "    return text.strip()\n",
    "\n",
    "df['Statement'] = df['Statement'].astype(str).apply(clean_text)"
   ]
  },
  {
   "cell_type": "code",
   "execution_count": 4,
   "id": "95121dc6-8301-44d9-83e7-d6b75bd3095e",
   "metadata": {},
   "outputs": [],
   "source": [
    "# 2. Tokenization\n",
    "from transformers import AutoTokenizer\n",
    "\n",
    "# 5. Initialize tokenizer\n",
    "model_name = 'distilbert-base-uncased'\n",
    "tokenizer = AutoTokenizer.from_pretrained(model_name)\n",
    "\n",
    "train_df = pd.read_csv('IFND.csv', encoding='latin1')\n",
    "\n",
    "test_df=pd.DataFrame()\n",
    "\n",
    "# 6. Tokenize\n",
    "def tokenize_function(examples):\n",
    "    return tokenizer(examples['Statement'], truncation=True, padding='max_length', max_length=128)"
   ]
  },
  {
   "cell_type": "code",
   "execution_count": 5,
   "id": "e34e2785-2faf-4314-a38c-434cb0032b35",
   "metadata": {},
   "outputs": [
    {
     "name": "stdout",
     "output_type": "stream",
     "text": [
      "Defaulting to user installation because normal site-packages is not writeable\n",
      "Requirement already satisfied: dataset in c:\\users\\ayush\\appdata\\roaming\\python\\python39\\site-packages (1.6.2)\n",
      "Requirement already satisfied: alembic>=0.6.2 in c:\\users\\ayush\\appdata\\roaming\\python\\python39\\site-packages (from dataset) (1.15.2)\n",
      "Requirement already satisfied: banal>=1.0.1 in c:\\users\\ayush\\appdata\\roaming\\python\\python39\\site-packages (from dataset) (1.0.6)\n",
      "Requirement already satisfied: sqlalchemy<2.0.0,>=1.3.2 in c:\\users\\ayush\\appdata\\roaming\\python\\python39\\site-packages (from dataset) (1.4.54)\n",
      "Requirement already satisfied: Mako in c:\\users\\ayush\\appdata\\roaming\\python\\python39\\site-packages (from alembic>=0.6.2->dataset) (1.3.10)\n",
      "Requirement already satisfied: typing-extensions>=4.12 in c:\\program files\\python39\\lib\\site-packages (from alembic>=0.6.2->dataset) (4.13.2)\n",
      "Requirement already satisfied: greenlet!=0.4.17 in c:\\users\\ayush\\appdata\\roaming\\python\\python39\\site-packages (from sqlalchemy<2.0.0,>=1.3.2->dataset) (3.2.1)\n",
      "Requirement already satisfied: MarkupSafe>=0.9.2 in c:\\program files\\python39\\lib\\site-packages (from Mako->alembic>=0.6.2->dataset) (3.0.2)\n",
      "Note: you may need to restart the kernel to use updated packages.\n"
     ]
    },
    {
     "name": "stderr",
     "output_type": "stream",
     "text": [
      "WARNING: You are using pip version 22.0.4; however, version 25.1.1 is available.\n",
      "You should consider upgrading via the 'C:\\Program Files\\Python39\\python.exe -m pip install --upgrade pip' command.\n"
     ]
    }
   ],
   "source": [
    "pip install dataset"
   ]
  },
  {
   "cell_type": "code",
   "execution_count": 6,
   "id": "be4c24a9-2dab-4218-80a8-9da06e2dcc2c",
   "metadata": {},
   "outputs": [
    {
     "name": "stdout",
     "output_type": "stream",
     "text": [
      "Defaulting to user installation because normal site-packages is not writeable\n",
      "Requirement already satisfied: datasets in c:\\program files\\python39\\lib\\site-packages (3.5.0)\n",
      "Requirement already satisfied: packaging in c:\\users\\ayush\\appdata\\roaming\\python\\python39\\site-packages (from datasets) (24.2)\n",
      "Requirement already satisfied: xxhash in c:\\program files\\python39\\lib\\site-packages (from datasets) (3.5.0)\n",
      "Requirement already satisfied: huggingface-hub>=0.24.0 in c:\\program files\\python39\\lib\\site-packages (from datasets) (0.30.2)\n",
      "Requirement already satisfied: filelock in c:\\program files\\python39\\lib\\site-packages (from datasets) (3.18.0)\n",
      "Requirement already satisfied: numpy>=1.17 in c:\\program files\\python39\\lib\\site-packages (from datasets) (2.0.2)\n",
      "Requirement already satisfied: pyyaml>=5.1 in c:\\program files\\python39\\lib\\site-packages (from datasets) (6.0.2)\n",
      "Requirement already satisfied: multiprocess<0.70.17 in c:\\program files\\python39\\lib\\site-packages (from datasets) (0.70.16)\n",
      "Requirement already satisfied: requests>=2.32.2 in c:\\program files\\python39\\lib\\site-packages (from datasets) (2.32.3)\n",
      "Requirement already satisfied: fsspec[http]<=2024.12.0,>=2023.1.0 in c:\\program files\\python39\\lib\\site-packages (from datasets) (2024.12.0)\n",
      "Requirement already satisfied: dill<0.3.9,>=0.3.0 in c:\\program files\\python39\\lib\\site-packages (from datasets) (0.3.8)\n",
      "Requirement already satisfied: pyarrow>=15.0.0 in c:\\program files\\python39\\lib\\site-packages (from datasets) (19.0.1)\n",
      "Requirement already satisfied: aiohttp in c:\\program files\\python39\\lib\\site-packages (from datasets) (3.11.18)\n",
      "Requirement already satisfied: pandas in c:\\program files\\python39\\lib\\site-packages (from datasets) (2.2.3)\n",
      "Requirement already satisfied: tqdm>=4.66.3 in c:\\program files\\python39\\lib\\site-packages (from datasets) (4.67.1)\n",
      "Requirement already satisfied: async-timeout<6.0,>=4.0 in c:\\program files\\python39\\lib\\site-packages (from aiohttp->datasets) (5.0.1)\n",
      "Requirement already satisfied: aiohappyeyeballs>=2.3.0 in c:\\program files\\python39\\lib\\site-packages (from aiohttp->datasets) (2.6.1)\n",
      "Requirement already satisfied: frozenlist>=1.1.1 in c:\\program files\\python39\\lib\\site-packages (from aiohttp->datasets) (1.6.0)\n",
      "Requirement already satisfied: yarl<2.0,>=1.17.0 in c:\\program files\\python39\\lib\\site-packages (from aiohttp->datasets) (1.20.0)\n",
      "Requirement already satisfied: aiosignal>=1.1.2 in c:\\program files\\python39\\lib\\site-packages (from aiohttp->datasets) (1.3.2)\n",
      "Requirement already satisfied: multidict<7.0,>=4.5 in c:\\program files\\python39\\lib\\site-packages (from aiohttp->datasets) (6.4.3)\n",
      "Requirement already satisfied: propcache>=0.2.0 in c:\\program files\\python39\\lib\\site-packages (from aiohttp->datasets) (0.3.1)\n",
      "Requirement already satisfied: attrs>=17.3.0 in c:\\program files\\python39\\lib\\site-packages (from aiohttp->datasets) (25.3.0)\n",
      "Requirement already satisfied: typing-extensions>=3.7.4.3 in c:\\program files\\python39\\lib\\site-packages (from huggingface-hub>=0.24.0->datasets) (4.13.2)\n",
      "Requirement already satisfied: certifi>=2017.4.17 in c:\\program files\\python39\\lib\\site-packages (from requests>=2.32.2->datasets) (2025.1.31)\n",
      "Requirement already satisfied: charset-normalizer<4,>=2 in c:\\program files\\python39\\lib\\site-packages (from requests>=2.32.2->datasets) (3.4.1)\n",
      "Requirement already satisfied: urllib3<3,>=1.21.1 in c:\\program files\\python39\\lib\\site-packages (from requests>=2.32.2->datasets) (1.26.20)\n",
      "Requirement already satisfied: idna<4,>=2.5 in c:\\program files\\python39\\lib\\site-packages (from requests>=2.32.2->datasets) (3.10)\n",
      "Requirement already satisfied: colorama in c:\\program files\\python39\\lib\\site-packages (from tqdm>=4.66.3->datasets) (0.4.6)\n",
      "Requirement already satisfied: tzdata>=2022.7 in c:\\program files\\python39\\lib\\site-packages (from pandas->datasets) (2025.2)\n",
      "Requirement already satisfied: python-dateutil>=2.8.2 in c:\\program files\\python39\\lib\\site-packages (from pandas->datasets) (2.9.0.post0)\n",
      "Requirement already satisfied: pytz>=2020.1 in c:\\program files\\python39\\lib\\site-packages (from pandas->datasets) (2025.2)\n",
      "Requirement already satisfied: six>=1.5 in c:\\program files\\python39\\lib\\site-packages (from python-dateutil>=2.8.2->pandas->datasets) (1.17.0)\n",
      "Note: you may need to restart the kernel to use updated packages.\n"
     ]
    },
    {
     "name": "stderr",
     "output_type": "stream",
     "text": [
      "WARNING: You are using pip version 22.0.4; however, version 25.1.1 is available.\n",
      "You should consider upgrading via the 'C:\\Program Files\\Python39\\python.exe -m pip install --upgrade pip' command.\n"
     ]
    }
   ],
   "source": [
    "pip install datasets"
   ]
  },
  {
   "cell_type": "code",
   "execution_count": 7,
   "id": "fb23b737-ec57-4d50-8571-e03fca946b74",
   "metadata": {},
   "outputs": [
    {
     "data": {
      "application/vnd.jupyter.widget-view+json": {
       "model_id": "808a06399e15476cb6a761bf0b6a9ece",
       "version_major": 2,
       "version_minor": 0
      },
      "text/plain": [
       "Map:   0%|          | 0/3408 [00:00<?, ? examples/s]"
      ]
     },
     "metadata": {},
     "output_type": "display_data"
    },
    {
     "data": {
      "application/vnd.jupyter.widget-view+json": {
       "model_id": "d3d7ad26644445ca92ba9e2d3fbd5daa",
       "version_major": 2,
       "version_minor": 0
      },
      "text/plain": [
       "Map:   0%|          | 0/853 [00:00<?, ? examples/s]"
      ]
     },
     "metadata": {},
     "output_type": "display_data"
    }
   ],
   "source": [
    "from sklearn.model_selection import train_test_split\n",
    "import pandas as pd\n",
    "from datasets import Dataset,DatasetDict\n",
    "df = pd.read_csv('IFND.csv', encoding='latin1')\n",
    "train_df, test_df = train_test_split(df, test_size=0.2, stratify=df['Label'], random_state=42)\n",
    "\n",
    "train_df = train_df.rename(columns={'Label': 'labels'})\n",
    "test_df = test_df.rename(columns={'Label': 'labels'})\n",
    "\n",
    "train_dataset = Dataset.from_pandas(train_df)\n",
    "test_dataset = Dataset.from_pandas(test_df)\n",
    "\n",
    "\n",
    "train_dataset = train_dataset.map(tokenize_function, batched=True)\n",
    "test_dataset = test_dataset.map(tokenize_function, batched=True)\n"
   ]
  },
  {
   "cell_type": "code",
   "execution_count": 8,
   "id": "c00388dc-546d-4204-b260-af9d800cadd5",
   "metadata": {},
   "outputs": [
    {
     "name": "stdout",
     "output_type": "stream",
     "text": [
      "WARNING:tensorflow:From C:\\Users\\ayush\\AppData\\Roaming\\Python\\Python39\\site-packages\\tf_keras\\src\\losses.py:2976: The name tf.losses.sparse_softmax_cross_entropy is deprecated. Please use tf.compat.v1.losses.sparse_softmax_cross_entropy instead.\n",
      "\n"
     ]
    },
    {
     "name": "stderr",
     "output_type": "stream",
     "text": [
      "Some weights of DistilBertForSequenceClassification were not initialized from the model checkpoint at distilbert-base-uncased and are newly initialized: ['classifier.bias', 'classifier.weight', 'pre_classifier.bias', 'pre_classifier.weight']\n",
      "You should probably TRAIN this model on a down-stream task to be able to use it for predictions and inference.\n",
      "C:\\Users\\ayush\\AppData\\Local\\Temp\\ipykernel_25416\\2281723726.py:16: FutureWarning: `tokenizer` is deprecated and will be removed in version 5.0.0 for `Trainer.__init__`. Use `processing_class` instead.\n",
      "  trainer = Trainer(\n"
     ]
    },
    {
     "name": "stdout",
     "output_type": "stream",
     "text": [
      "Found existing checkpoint in ./results, resuming training…\n"
     ]
    },
    {
     "data": {
      "text/html": [
       "\n",
       "    <div>\n",
       "      \n",
       "      <progress value='639' max='639' style='width:300px; height:20px; vertical-align: middle;'></progress>\n",
       "      [639/639 : < :, Epoch 3/3]\n",
       "    </div>\n",
       "    <table border=\"1\" class=\"dataframe\">\n",
       "  <thead>\n",
       " <tr style=\"text-align: left;\">\n",
       "      <th>Epoch</th>\n",
       "      <th>Training Loss</th>\n",
       "      <th>Validation Loss</th>\n",
       "    </tr>\n",
       "  </thead>\n",
       "  <tbody>\n",
       "  </tbody>\n",
       "</table><p>"
      ],
      "text/plain": [
       "<IPython.core.display.HTML object>"
      ]
     },
     "metadata": {},
     "output_type": "display_data"
    }
   ],
   "source": [
    "# 3. Model and TrainingArguments\n",
    "from transformers import AutoModelForSequenceClassification, Trainer, TrainingArguments\n",
    "\n",
    "model = AutoModelForSequenceClassification.from_pretrained(model_name, num_labels=2)\n",
    "training_args = TrainingArguments(\n",
    "    output_dir='./results',\n",
    "    num_train_epochs=3,\n",
    "    per_device_train_batch_size=16,\n",
    "    per_device_eval_batch_size=64,\n",
    "    eval_strategy=\"epoch\",  # Correct parameter name\n",
    "    save_strategy=\"epoch\",\n",
    "    logging_dir='./logs',\n",
    "    logging_steps=10,\n",
    ")\n",
    "\n",
    "trainer = Trainer(\n",
    "    model=model,\n",
    "    args=training_args,\n",
    "    train_dataset=train_dataset,\n",
    "    eval_dataset=test_dataset,\n",
    "    tokenizer=tokenizer,\n",
    ")\n",
    "\n",
    "\n",
    "\n",
    "\n",
    "\n",
    "\n",
    "import os\n",
    "\n",
    "# where Trainer will save checkpoints\n",
    "output_dir = training_args.output_dir  \n",
    "\n",
    "# look for any saved checkpoints\n",
    "if os.path.isdir(output_dir) and any(\n",
    "    name.startswith(\"checkpoint-\") for name in os.listdir(output_dir)\n",
    "):\n",
    "    print(f\"Found existing checkpoint in {output_dir}, resuming training…\")\n",
    "    # resume from the latest checkpoint\n",
    "    checkpoints = sorted(\n",
    "        d for d in os.listdir(output_dir) if d.startswith(\"checkpoint-\")\n",
    "    )\n",
    "    latest_checkpoint = os.path.join(output_dir, checkpoints[-1])\n",
    "    trainer.train(resume_from_checkpoint=latest_checkpoint)\n",
    "else:\n",
    "    print(\"No checkpoint found, starting fresh training…\")\n",
    "    trainer.train()"
   ]
  },
  {
   "cell_type": "code",
   "execution_count": 9,
   "id": "b6f98931-a854-43d2-9d54-471d2fe05408",
   "metadata": {},
   "outputs": [
    {
     "name": "stdout",
     "output_type": "stream",
     "text": [
      "Defaulting to user installation because normal site-packages is not writeable\n",
      "Requirement already satisfied: textattack in c:\\program files\\python39\\lib\\site-packages (0.3.10)\n",
      "Requirement already satisfied: flair in c:\\program files\\python39\\lib\\site-packages (from textattack) (0.15.1)\n",
      "Requirement already satisfied: torch!=1.8,>=1.7.0 in c:\\program files\\python39\\lib\\site-packages (from textattack) (2.6.0)\n",
      "Requirement already satisfied: word2number in c:\\program files\\python39\\lib\\site-packages (from textattack) (1.1)\n",
      "Requirement already satisfied: bert-score>=0.3.5 in c:\\program files\\python39\\lib\\site-packages (from textattack) (0.3.13)\n",
      "Requirement already satisfied: lru-dict in c:\\program files\\python39\\lib\\site-packages (from textattack) (1.3.0)\n",
      "Requirement already satisfied: numpy>=1.21.0 in c:\\program files\\python39\\lib\\site-packages (from textattack) (2.0.2)\n",
      "Requirement already satisfied: nltk in c:\\program files\\python39\\lib\\site-packages (from textattack) (3.9.1)\n",
      "Requirement already satisfied: lemminflect in c:\\program files\\python39\\lib\\site-packages (from textattack) (0.2.3)\n",
      "Requirement already satisfied: pandas>=1.0.1 in c:\\program files\\python39\\lib\\site-packages (from textattack) (2.2.3)\n",
      "Requirement already satisfied: filelock in c:\\program files\\python39\\lib\\site-packages (from textattack) (3.18.0)\n",
      "Requirement already satisfied: jieba in c:\\program files\\python39\\lib\\site-packages (from textattack) (0.42.1)\n",
      "Requirement already satisfied: pinyin>=0.4.0 in c:\\program files\\python39\\lib\\site-packages (from textattack) (0.4.0)\n",
      "Requirement already satisfied: num2words in c:\\program files\\python39\\lib\\site-packages (from textattack) (0.5.14)\n",
      "Requirement already satisfied: tqdm in c:\\program files\\python39\\lib\\site-packages (from textattack) (4.67.1)\n",
      "Requirement already satisfied: editdistance in c:\\program files\\python39\\lib\\site-packages (from textattack) (0.8.1)\n",
      "Requirement already satisfied: more-itertools in c:\\program files\\python39\\lib\\site-packages (from textattack) (10.6.0)\n",
      "Requirement already satisfied: OpenHowNet in c:\\program files\\python39\\lib\\site-packages (from textattack) (2.0)\n",
      "Requirement already satisfied: transformers>=4.30.0 in c:\\program files\\python39\\lib\\site-packages (from textattack) (4.51.3)\n",
      "Requirement already satisfied: terminaltables in c:\\program files\\python39\\lib\\site-packages (from textattack) (3.1.10)\n",
      "Requirement already satisfied: language-tool-python in c:\\program files\\python39\\lib\\site-packages (from textattack) (2.9.3)\n",
      "Requirement already satisfied: scipy>=1.4.1 in c:\\program files\\python39\\lib\\site-packages (from textattack) (1.13.1)\n",
      "Requirement already satisfied: datasets>=2.4.0 in c:\\program files\\python39\\lib\\site-packages (from textattack) (3.5.0)\n",
      "Requirement already satisfied: packaging>=20.9 in c:\\users\\ayush\\appdata\\roaming\\python\\python39\\site-packages (from bert-score>=0.3.5->textattack) (24.2)\n",
      "Requirement already satisfied: requests in c:\\program files\\python39\\lib\\site-packages (from bert-score>=0.3.5->textattack) (2.32.3)\n",
      "Requirement already satisfied: matplotlib in c:\\program files\\python39\\lib\\site-packages (from bert-score>=0.3.5->textattack) (3.9.4)\n",
      "Requirement already satisfied: dill<0.3.9,>=0.3.0 in c:\\program files\\python39\\lib\\site-packages (from datasets>=2.4.0->textattack) (0.3.8)\n",
      "Requirement already satisfied: pyyaml>=5.1 in c:\\program files\\python39\\lib\\site-packages (from datasets>=2.4.0->textattack) (6.0.2)\n",
      "Requirement already satisfied: pyarrow>=15.0.0 in c:\\program files\\python39\\lib\\site-packages (from datasets>=2.4.0->textattack) (19.0.1)\n",
      "Requirement already satisfied: multiprocess<0.70.17 in c:\\program files\\python39\\lib\\site-packages (from datasets>=2.4.0->textattack) (0.70.16)\n",
      "Requirement already satisfied: aiohttp in c:\\program files\\python39\\lib\\site-packages (from datasets>=2.4.0->textattack) (3.11.18)\n",
      "Requirement already satisfied: huggingface-hub>=0.24.0 in c:\\program files\\python39\\lib\\site-packages (from datasets>=2.4.0->textattack) (0.30.2)\n",
      "Requirement already satisfied: xxhash in c:\\program files\\python39\\lib\\site-packages (from datasets>=2.4.0->textattack) (3.5.0)\n",
      "Requirement already satisfied: fsspec[http]<=2024.12.0,>=2023.1.0 in c:\\program files\\python39\\lib\\site-packages (from datasets>=2.4.0->textattack) (2024.12.0)\n",
      "Requirement already satisfied: tzdata>=2022.7 in c:\\program files\\python39\\lib\\site-packages (from pandas>=1.0.1->textattack) (2025.2)\n",
      "Requirement already satisfied: pytz>=2020.1 in c:\\program files\\python39\\lib\\site-packages (from pandas>=1.0.1->textattack) (2025.2)\n",
      "Requirement already satisfied: python-dateutil>=2.8.2 in c:\\program files\\python39\\lib\\site-packages (from pandas>=1.0.1->textattack) (2.9.0.post0)\n",
      "Requirement already satisfied: networkx in c:\\program files\\python39\\lib\\site-packages (from torch!=1.8,>=1.7.0->textattack) (3.2.1)\n",
      "Requirement already satisfied: jinja2 in c:\\program files\\python39\\lib\\site-packages (from torch!=1.8,>=1.7.0->textattack) (3.1.6)\n",
      "Requirement already satisfied: sympy==1.13.1 in c:\\program files\\python39\\lib\\site-packages (from torch!=1.8,>=1.7.0->textattack) (1.13.1)\n",
      "Requirement already satisfied: typing-extensions>=4.10.0 in c:\\program files\\python39\\lib\\site-packages (from torch!=1.8,>=1.7.0->textattack) (4.13.2)\n",
      "Requirement already satisfied: mpmath<1.4,>=1.1.0 in c:\\program files\\python39\\lib\\site-packages (from sympy==1.13.1->torch!=1.8,>=1.7.0->textattack) (1.3.0)\n",
      "Requirement already satisfied: colorama in c:\\program files\\python39\\lib\\site-packages (from tqdm->textattack) (0.4.6)\n",
      "Requirement already satisfied: safetensors>=0.4.3 in c:\\program files\\python39\\lib\\site-packages (from transformers>=4.30.0->textattack) (0.5.3)\n",
      "Requirement already satisfied: tokenizers<0.22,>=0.21 in c:\\program files\\python39\\lib\\site-packages (from transformers>=4.30.0->textattack) (0.21.1)\n",
      "Requirement already satisfied: regex!=2019.12.17 in c:\\program files\\python39\\lib\\site-packages (from transformers>=4.30.0->textattack) (2024.11.6)\n",
      "Requirement already satisfied: segtok>=1.5.11 in c:\\program files\\python39\\lib\\site-packages (from flair->textattack) (1.5.11)\n",
      "Requirement already satisfied: bioc<3.0.0,>=2.0.0 in c:\\program files\\python39\\lib\\site-packages (from flair->textattack) (2.1)\n",
      "Requirement already satisfied: deprecated>=1.2.13 in c:\\program files\\python39\\lib\\site-packages (from flair->textattack) (1.2.18)\n",
      "Requirement already satisfied: boto3>=1.20.27 in c:\\program files\\python39\\lib\\site-packages (from flair->textattack) (1.37.38)\n",
      "Requirement already satisfied: mpld3>=0.3 in c:\\program files\\python39\\lib\\site-packages (from flair->textattack) (0.5.10)\n",
      "Requirement already satisfied: wikipedia-api>=0.5.7 in c:\\program files\\python39\\lib\\site-packages (from flair->textattack) (0.8.1)\n",
      "Requirement already satisfied: tabulate>=0.8.10 in c:\\program files\\python39\\lib\\site-packages (from flair->textattack) (0.9.0)\n",
      "Requirement already satisfied: ftfy>=6.1.0 in c:\\program files\\python39\\lib\\site-packages (from flair->textattack) (6.3.1)\n",
      "Requirement already satisfied: scikit-learn>=1.0.2 in c:\\program files\\python39\\lib\\site-packages (from flair->textattack) (1.6.1)\n",
      "Requirement already satisfied: lxml>=4.8.0 in c:\\program files\\python39\\lib\\site-packages (from flair->textattack) (5.3.2)\n",
      "Requirement already satisfied: sqlitedict>=2.0.0 in c:\\program files\\python39\\lib\\site-packages (from flair->textattack) (2.1.0)\n",
      "Requirement already satisfied: pptree>=3.1 in c:\\program files\\python39\\lib\\site-packages (from flair->textattack) (3.1)\n",
      "Requirement already satisfied: pytorch-revgrad>=0.2.0 in c:\\program files\\python39\\lib\\site-packages (from flair->textattack) (0.2.0)\n",
      "Requirement already satisfied: conllu<5.0.0,>=4.0 in c:\\program files\\python39\\lib\\site-packages (from flair->textattack) (4.5.3)\n",
      "Requirement already satisfied: transformer-smaller-training-vocab>=0.2.3 in c:\\program files\\python39\\lib\\site-packages (from flair->textattack) (0.4.1)\n",
      "Requirement already satisfied: langdetect>=1.0.9 in c:\\program files\\python39\\lib\\site-packages (from flair->textattack) (1.0.9)\n",
      "Requirement already satisfied: gdown>=4.4.0 in c:\\program files\\python39\\lib\\site-packages (from flair->textattack) (5.2.0)\n",
      "Requirement already satisfied: toml in c:\\program files\\python39\\lib\\site-packages (from language-tool-python->textattack) (0.10.2)\n",
      "Requirement already satisfied: psutil in c:\\program files\\python39\\lib\\site-packages (from language-tool-python->textattack) (7.0.0)\n",
      "Requirement already satisfied: click in c:\\program files\\python39\\lib\\site-packages (from nltk->textattack) (8.1.8)\n",
      "Requirement already satisfied: joblib in c:\\program files\\python39\\lib\\site-packages (from nltk->textattack) (1.4.2)\n",
      "Requirement already satisfied: docopt>=0.6.2 in c:\\program files\\python39\\lib\\site-packages (from num2words->textattack) (0.6.2)\n",
      "Requirement already satisfied: anytree in c:\\program files\\python39\\lib\\site-packages (from OpenHowNet->textattack) (2.13.0)\n",
      "Requirement already satisfied: setuptools in c:\\program files\\python39\\lib\\site-packages (from OpenHowNet->textattack) (58.1.0)\n",
      "Requirement already satisfied: jsonlines>=1.2.0 in c:\\program files\\python39\\lib\\site-packages (from bioc<3.0.0,>=2.0.0->flair->textattack) (4.0.0)\n",
      "Requirement already satisfied: intervaltree in c:\\program files\\python39\\lib\\site-packages (from bioc<3.0.0,>=2.0.0->flair->textattack) (3.1.0)\n",
      "Requirement already satisfied: jmespath<2.0.0,>=0.7.1 in c:\\program files\\python39\\lib\\site-packages (from boto3>=1.20.27->flair->textattack) (1.0.1)\n",
      "Requirement already satisfied: botocore<1.38.0,>=1.37.38 in c:\\program files\\python39\\lib\\site-packages (from boto3>=1.20.27->flair->textattack) (1.37.38)\n",
      "Requirement already satisfied: s3transfer<0.12.0,>=0.11.0 in c:\\program files\\python39\\lib\\site-packages (from boto3>=1.20.27->flair->textattack) (0.11.5)\n",
      "Requirement already satisfied: wrapt<2,>=1.10 in c:\\program files\\python39\\lib\\site-packages (from deprecated>=1.2.13->flair->textattack) (1.17.2)\n",
      "Requirement already satisfied: aiohappyeyeballs>=2.3.0 in c:\\program files\\python39\\lib\\site-packages (from aiohttp->datasets>=2.4.0->textattack) (2.6.1)\n",
      "Requirement already satisfied: aiosignal>=1.1.2 in c:\\program files\\python39\\lib\\site-packages (from aiohttp->datasets>=2.4.0->textattack) (1.3.2)\n",
      "Requirement already satisfied: multidict<7.0,>=4.5 in c:\\program files\\python39\\lib\\site-packages (from aiohttp->datasets>=2.4.0->textattack) (6.4.3)\n",
      "Requirement already satisfied: yarl<2.0,>=1.17.0 in c:\\program files\\python39\\lib\\site-packages (from aiohttp->datasets>=2.4.0->textattack) (1.20.0)\n",
      "Requirement already satisfied: frozenlist>=1.1.1 in c:\\program files\\python39\\lib\\site-packages (from aiohttp->datasets>=2.4.0->textattack) (1.6.0)\n",
      "Requirement already satisfied: attrs>=17.3.0 in c:\\program files\\python39\\lib\\site-packages (from aiohttp->datasets>=2.4.0->textattack) (25.3.0)\n",
      "Requirement already satisfied: async-timeout<6.0,>=4.0 in c:\\program files\\python39\\lib\\site-packages (from aiohttp->datasets>=2.4.0->textattack) (5.0.1)\n",
      "Requirement already satisfied: propcache>=0.2.0 in c:\\program files\\python39\\lib\\site-packages (from aiohttp->datasets>=2.4.0->textattack) (0.3.1)\n",
      "Requirement already satisfied: wcwidth in c:\\program files\\python39\\lib\\site-packages (from ftfy>=6.1.0->flair->textattack) (0.2.13)\n",
      "Requirement already satisfied: beautifulsoup4 in c:\\program files\\python39\\lib\\site-packages (from gdown>=4.4.0->flair->textattack) (4.13.4)\n",
      "Requirement already satisfied: six in c:\\program files\\python39\\lib\\site-packages (from langdetect>=1.0.9->flair->textattack) (1.17.0)\n",
      "Requirement already satisfied: pyparsing>=2.3.1 in c:\\program files\\python39\\lib\\site-packages (from matplotlib->bert-score>=0.3.5->textattack) (3.2.3)\n",
      "Requirement already satisfied: fonttools>=4.22.0 in c:\\program files\\python39\\lib\\site-packages (from matplotlib->bert-score>=0.3.5->textattack) (4.57.0)\n",
      "Requirement already satisfied: importlib-resources>=3.2.0 in c:\\program files\\python39\\lib\\site-packages (from matplotlib->bert-score>=0.3.5->textattack) (6.5.2)\n",
      "Requirement already satisfied: pillow>=8 in c:\\program files\\python39\\lib\\site-packages (from matplotlib->bert-score>=0.3.5->textattack) (11.2.1)\n",
      "Requirement already satisfied: kiwisolver>=1.3.1 in c:\\program files\\python39\\lib\\site-packages (from matplotlib->bert-score>=0.3.5->textattack) (1.4.7)\n",
      "Requirement already satisfied: cycler>=0.10 in c:\\program files\\python39\\lib\\site-packages (from matplotlib->bert-score>=0.3.5->textattack) (0.12.1)\n",
      "Requirement already satisfied: contourpy>=1.0.1 in c:\\program files\\python39\\lib\\site-packages (from matplotlib->bert-score>=0.3.5->textattack) (1.3.0)\n",
      "Requirement already satisfied: charset-normalizer<4,>=2 in c:\\program files\\python39\\lib\\site-packages (from requests->bert-score>=0.3.5->textattack) (3.4.1)\n",
      "Requirement already satisfied: idna<4,>=2.5 in c:\\program files\\python39\\lib\\site-packages (from requests->bert-score>=0.3.5->textattack) (3.10)\n",
      "Requirement already satisfied: certifi>=2017.4.17 in c:\\program files\\python39\\lib\\site-packages (from requests->bert-score>=0.3.5->textattack) (2025.1.31)\n",
      "Requirement already satisfied: urllib3<3,>=1.21.1 in c:\\program files\\python39\\lib\\site-packages (from requests->bert-score>=0.3.5->textattack) (1.26.20)\n",
      "Requirement already satisfied: threadpoolctl>=3.1.0 in c:\\program files\\python39\\lib\\site-packages (from scikit-learn>=1.0.2->flair->textattack) (3.6.0)\n",
      "Requirement already satisfied: protobuf in c:\\users\\ayush\\appdata\\roaming\\python\\python39\\site-packages (from transformers>=4.30.0->textattack) (5.29.4)\n",
      "Requirement already satisfied: sentencepiece!=0.1.92,>=0.1.91 in c:\\program files\\python39\\lib\\site-packages (from transformers>=4.30.0->textattack) (0.2.0)\n",
      "Requirement already satisfied: MarkupSafe>=2.0 in c:\\program files\\python39\\lib\\site-packages (from jinja2->torch!=1.8,>=1.7.0->textattack) (3.0.2)\n",
      "Requirement already satisfied: zipp>=3.1.0 in c:\\program files\\python39\\lib\\site-packages (from importlib-resources>=3.2.0->matplotlib->bert-score>=0.3.5->textattack) (3.21.0)\n",
      "Requirement already satisfied: accelerate>=0.26.0 in c:\\program files\\python39\\lib\\site-packages (from transformers>=4.30.0->textattack) (1.6.0)\n",
      "Requirement already satisfied: soupsieve>1.2 in c:\\program files\\python39\\lib\\site-packages (from beautifulsoup4->gdown>=4.4.0->flair->textattack) (2.7)\n",
      "Requirement already satisfied: sortedcontainers<3.0,>=2.0 in c:\\program files\\python39\\lib\\site-packages (from intervaltree->bioc<3.0.0,>=2.0.0->flair->textattack) (2.4.0)\n",
      "Requirement already satisfied: PySocks!=1.5.7,>=1.5.6 in c:\\program files\\python39\\lib\\site-packages (from requests->bert-score>=0.3.5->textattack) (1.7.1)\n",
      "Note: you may need to restart the kernel to use updated packages.\n"
     ]
    },
    {
     "name": "stderr",
     "output_type": "stream",
     "text": [
      "WARNING: You are using pip version 22.0.4; however, version 25.1.1 is available.\n",
      "You should consider upgrading via the 'C:\\Program Files\\Python39\\python.exe -m pip install --upgrade pip' command.\n"
     ]
    }
   ],
   "source": [
    "pip install textattack\n"
   ]
  },
  {
   "cell_type": "code",
   "execution_count": 10,
   "id": "e5515565-de8b-4d21-84a3-85b6c0130fa1",
   "metadata": {},
   "outputs": [
    {
     "data": {
      "text/html": [],
      "text/plain": [
       "<IPython.core.display.HTML object>"
      ]
     },
     "metadata": {},
     "output_type": "display_data"
    },
    {
     "name": "stdout",
     "output_type": "stream",
     "text": [
      "              precision    recall  f1-score   support\n",
      "\n",
      "           0       0.97      0.94      0.96       430\n",
      "           1       0.94      0.97      0.96       423\n",
      "\n",
      "    accuracy                           0.96       853\n",
      "   macro avg       0.96      0.96      0.96       853\n",
      "weighted avg       0.96      0.96      0.96       853\n",
      "\n"
     ]
    },
    {
     "data": {
      "image/png": "[encoded data removed]",
      "text/plain": [
       "<Figure size 640x480 with 2 Axes>"
      ]
     },
     "metadata": {},
     "output_type": "display_data"
    }
   ],
   "source": [
    "from sklearn.metrics import classification_report, confusion_matrix, ConfusionMatrixDisplay\n",
    "import matplotlib.pyplot as plt\n",
    "\n",
    "# run inference\n",
    "preds = trainer.predict(test_dataset)\n",
    "\n",
    "# extract true+predicted labels\n",
    "y_true = y_true = test_df['labels'].values        # HF gives you this out of the box\n",
    "y_pred = preds.predictions.argmax(axis=1)\n",
    "\n",
    "# metrics\n",
    "print(classification_report(y_true, y_pred))\n",
    "\n",
    "#confusion matrix\n",
    "cm_clean = confusion_matrix(y_true, y_pred)\n",
    "disp_clean = ConfusionMatrixDisplay(confusion_matrix=cm_clean, display_labels=['Fake', 'Real'])\n",
    "disp_clean.plot(cmap='Blues')\n",
    "plt.title(\"Confusion Matrix - Clean Data\")\n",
    "plt.savefig(\"confusion_matrix_clean.png\")\n",
    "plt.show()\n",
    "\n"
   ]
  },
  {
   "cell_type": "code",
   "execution_count": 11,
   "id": "fbd8a1dd-cb14-4c5d-bc4e-b07032541378",
   "metadata": {},
   "outputs": [],
   "source": [
    "from textattack.models.wrappers import HuggingFaceModelWrapper\n",
    "\n",
    "model_wrapper = HuggingFaceModelWrapper(model, tokenizer)\n"
   ]
  },
  {
   "cell_type": "code",
   "execution_count": 12,
   "id": "6c87f3c6-327f-4047-a011-ab22f990a84c",
   "metadata": {},
   "outputs": [
    {
     "name": "stdout",
     "output_type": "stream",
     "text": [
      "Index(['Statement', 'labels', '__index_level_0__', 'input_ids',\n",
      "       'attention_mask'],\n",
      "      dtype='object')\n"
     ]
    }
   ],
   "source": [
    "test_df = test_dataset.to_pandas()\n",
    "print(test_df.columns)   # inspect\n"
   ]
  },
  {
   "cell_type": "code",
   "execution_count": 13,
   "id": "2ff7209b-25e6-4fc5-9ea7-5a6d3ae926d6",
   "metadata": {},
   "outputs": [
    {
     "name": "stderr",
     "output_type": "stream",
     "text": [
      "[nltk_data] Downloading package averaged_perceptron_tagger_eng to\n",
      "[nltk_data]     C:\\Users\\ayush\\AppData\\Roaming\\nltk_data...\n",
      "[nltk_data]   Package averaged_perceptron_tagger_eng is already up-to-\n",
      "[nltk_data]       date!\n"
     ]
    },
    {
     "data": {
      "text/plain": [
       "True"
      ]
     },
     "execution_count": 13,
     "metadata": {},
     "output_type": "execute_result"
    }
   ],
   "source": [
    "import nltk\n",
    "nltk.download('averaged_perceptron_tagger_eng')"
   ]
  },
  {
   "cell_type": "code",
   "execution_count": 14,
   "id": "b2f93528-18c5-44bd-8d16-618b58e2ed97",
   "metadata": {},
   "outputs": [
    {
     "name": "stdout",
     "output_type": "stream",
     "text": [
      "Found existing log at attack_log.csv, skipping attack.\n"
     ]
    }
   ],
   "source": [
    "import os\n",
    "from textattack import Attacker, AttackArgs\n",
    "from textattack.attack_recipes import TextFoolerJin2019\n",
    "from textattack.datasets import Dataset as TA_Dataset\n",
    "\n",
    "log_path = \"attack_log.csv\"\n",
    "\n",
    "if os.path.isfile(log_path):\n",
    "    print(f\"Found existing log at {log_path}, skipping attack.\")\n",
    "    # Optionally, you can load the CSV here for downstream analysis:\n",
    "    # import pandas as pd\n",
    "    # df_attacks = pd.read_csv(log_path)\n",
    "else:\n",
    "    # 1) Prepare your sample dataset\n",
    "    sample = list(zip(\n",
    "        test_df['Statement'].tolist()[:20],\n",
    "        test_df['labels'].tolist()[:20],\n",
    "    ))\n",
    "    ta_dataset = TA_Dataset(sample)\n",
    "\n",
    "    # 2) Build the attack\n",
    "    attack = TextFoolerJin2019.build(model_wrapper)\n",
    "\n",
    "    # 3) Configure how you want attacks to run\n",
    "    attack_args = AttackArgs(\n",
    "        num_examples=20,          # how many samples to attack\n",
    "        log_to_csv=log_path,\n",
    "        disable_stdout=True       # suppress per-attack prints\n",
    "    )\n",
    "\n",
    "    # 4) Create the Attacker\n",
    "    attacker = Attacker(attack, ta_dataset, attack_args)\n",
    "\n",
    "    # 5) Run the attacks\n",
    "    results = attacker.attack_dataset()\n",
    "\n",
    "    # 6) Inspect\n",
    "    for result in results:\n",
    "        print(result)\n"
   ]
  },
  {
   "cell_type": "code",
   "execution_count": 15,
   "id": "ec6ec9ec-556f-41a0-ba16-b1fa5f992fc4",
   "metadata": {},
   "outputs": [
    {
     "data": {
      "image/png": "[encoded data removed]",
      "text/plain": [
       "<Figure size 640x480 with 2 Axes>"
      ]
     },
     "metadata": {},
     "output_type": "display_data"
    }
   ],
   "source": [
    "import pandas as pd\n",
    "from sklearn.metrics import confusion_matrix, ConfusionMatrixDisplay\n",
    "import matplotlib.pyplot as plt\n",
    "\n",
    "# 1) Load your TextAttack log\n",
    "df = pd.read_csv(\"attack_log.csv\")\n",
    "\n",
    "# 2) Extract ground-truth and adversarial predictions\n",
    "#   – adjust these column names if yours differ\n",
    "y_true     = df[\"ground_truth_output\"].values\n",
    "y_adv_pred = df[\"perturbed_output\"].values #predicted_output\n",
    "\n",
    "# 3) Compute & display the confusion matrix\n",
    "cm_adv = confusion_matrix(y_true, y_adv_pred)\n",
    "disp_adv = ConfusionMatrixDisplay(confusion_matrix=cm_adv,\n",
    "                                  display_labels=df[\"ground_truth_output\"].unique())\n",
    "disp_adv.plot(cmap=\"Blues\", values_format='d')\n",
    "plt.title(\"Confusion Matrix after Adversarial Attack\")\n",
    "plt.xlabel(\"Predicted label\")\n",
    "plt.ylabel(\"True label\")\n",
    "plt.show()\n"
   ]
  },
  {
   "cell_type": "code",
   "execution_count": 16,
   "id": "8b7deabd-cf9c-4853-9da5-794c1e3f5160",
   "metadata": {},
   "outputs": [
    {
     "name": "stdout",
     "output_type": "stream",
     "text": [
      "Accuracy before attack: 0.95\n",
      "Accuracy after attack: 0.50\n",
      "Accuracy drop: 0.45\n"
     ]
    }
   ],
   "source": [
    "import pandas as pd\n",
    "from sklearn.metrics import accuracy_score\n",
    "\n",
    "# Load the attack log\n",
    "df = pd.read_csv(\"attack_log.csv\")\n",
    "\n",
    "# Extract true and adversarial predicted labels\n",
    "y_true = df[\"ground_truth_output\"].values\n",
    "y_pred = df[\"original_output\"].values\n",
    "y_adv_pred = df[\"perturbed_output\"].values\n",
    "\n",
    "\n",
    "# Accuracy metrics\n",
    "acc_clean = accuracy_score(y_true, y_pred)\n",
    "acc_adv = accuracy_score(y_true, y_adv_pred)\n",
    "print(f\"Accuracy before attack: {acc_clean:.2f}\")\n",
    "print(f\"Accuracy after attack: {acc_adv:.2f}\")\n",
    "print(f\"Accuracy drop: {acc_clean - acc_adv:.2f}\")\n"
   ]
  },
  {
   "cell_type": "code",
   "execution_count": 17,
   "id": "229fea8f-ba97-4c60-a8ad-c35b1de33607",
   "metadata": {},
   "outputs": [
    {
     "name": "stdout",
     "output_type": "stream",
     "text": [
      "Attack Success Rate: 0.45\n"
     ]
    }
   ],
   "source": [
    "import numpy as np\n",
    "attack_successes = np.sum(y_pred != y_adv_pred)\n",
    "attack_rate = attack_successes / len(y_true)\n",
    "print(f\"Attack Success Rate: {attack_rate:.2f}\")\n"
   ]
  },
  {
   "cell_type": "code",
   "execution_count": 18,
   "id": "b3e2aefe-618c-4079-b6e6-8539d45d9651",
   "metadata": {},
   "outputs": [
    {
     "name": "stdout",
     "output_type": "stream",
     "text": [
      "Original: YSRCP MP calls party govt in Andhra 'anti-Hindu', faces [[disqualification]]\n",
      "Adversarial: YSRCP MP calls party govt in Andhra 'anti-Hindu', faces [[excepted]]\n",
      "Original prediction: 1, Adversarial prediction: 1\n",
      "--------------------------------------------------\n",
      "Original: Gory [[Video]] Of A Teenager [[Hacked]] To Death In Brazil Passed Off [[As]] India\n",
      "Adversarial: Gory [[Vcr]] Of A Teenager [[Kidnapped]] To Death In Brazil Passed Off [[Because]] India\n",
      "Original prediction: 0, Adversarial prediction: 1\n",
      "--------------------------------------------------\n",
      "Original: [[Fact]] [[Check]]: [[Shanghai]] [[police]] drill video goes viral as [[shooting]] of three Uyghur [[Muslims]]\n",
      "Adversarial: [[Accompli]] [[Tested]]: [[Nanking]] [[officers]] drill video goes viral as [[killin]] of three Uyghur [[Fundamentalism]]\n",
      "Original prediction: 0, Adversarial prediction: 1\n",
      "--------------------------------------------------\n",
      "Original: India, China to hold military level [[talks]] on 12 [[October]]\n",
      "Adversarial: India, China to hold military level [[interview]] on 12 [[April]]\n",
      "Original prediction: 1, Adversarial prediction: 0\n",
      "--------------------------------------------------\n",
      "Original: Palghar girls to Sameet Thakkar case all Maharashtra govts tried to shut online dissent\n",
      "Adversarial: Palghar girls to Sameet Thakkar case all Maharashtra govts tried to shut online dissent\n",
      "Original prediction: 1, Adversarial prediction: 1\n",
      "--------------------------------------------------\n",
      "Original: No, this [[photo]] [[does]] not [[show]] Indian politician [[Rahul]] Gandhi [[meeting]] a Pakistani intelligence [[agent]] in Dubai\n",
      "Adversarial: No, this [[movie]] [[va]] not [[proves]] Indian politician [[Kapil]] Gandhi [[discussions]] a Pakistani intelligence [[mounties]] in Dubai\n",
      "Original prediction: 0, Adversarial prediction: 0\n",
      "--------------------------------------------------\n",
      "Original: Modi Degree Row: Right Wing Trolls Desperately Delete Old [[Tweets]] On Jitender Tomar\n",
      "Adversarial: Modi Degree Row: Right Wing Trolls Desperately Delete Old [[Bloggers]] On Jitender Tomar\n",
      "Original prediction: 0, Adversarial prediction: 1\n",
      "--------------------------------------------------\n",
      "Original: 'Very [[Happy]] With My Current Job': Raghuram Rajan Busts [[Fake]] [[News]] Of...\n",
      "Adversarial: 'Very [[Jubilant]] With My Current Job': Raghuram Rajan Busts [[Falsification]] [[Beginner]] Of...\n",
      "Original prediction: 0, Adversarial prediction: 1\n",
      "--------------------------------------------------\n",
      "Original: UP: Mahapanchayat against 'love jihad' [[postponed]]\n",
      "Adversarial: UP: Mahapanchayat against 'love jihad' [[reprogrammed]]\n",
      "Original prediction: 1, Adversarial prediction: 1\n",
      "--------------------------------------------------\n",
      "Original: [[Fact]] [[Check]]: [[Photo]] of Dalit [[activist]] [[goes]] viral with misleading [[claim]]\n",
      "Adversarial: [[Performed]] [[Inspecting]]: [[Portraits]] of Dalit [[campaigner]] [[vanishes]] viral with misleading [[affirming]]\n",
      "Original prediction: 0, Adversarial prediction: 1\n",
      "--------------------------------------------------\n",
      "Original: Mehbooba Mufti's daughter moves SC seeking to amend [[plea]] against continued [[detention]] of her mother\n",
      "Adversarial: Mehbooba Mufti's daughter moves SC seeking to amend [[asked]] against continued [[jailed]] of her mother\n",
      "Original prediction: 1, Adversarial prediction: 1\n",
      "--------------------------------------------------\n",
      "Original: Has Bengalurus Namma Metro [[Pillar]] 155 [[really]] [[got]] [[twisted]]? Whats the [[truth]]?\n",
      "Adversarial: Has Bengalurus Namma Metro [[Axle]] 155 [[very]] [[attained]] [[nutter]]? Whats the [[lowdown]]?\n",
      "Original prediction: 0, Adversarial prediction: 0\n",
      "--------------------------------------------------\n",
      "Original: Indian [[Railways]] to start CBT for [[notified]] vacancies from 15th [[December]]\n",
      "Adversarial: Indian [[Tram]] to start CBT for [[illuminate]] vacancies from 15th [[Janeiro]]\n",
      "Original prediction: 1, Adversarial prediction: 1\n",
      "--------------------------------------------------\n",
      "Original: Fact Check: Old [[tampered]] video of Muharram [[goes]] viral with anti-RSS slogan\n",
      "Adversarial: Fact Check: Old [[altering]] video of Muharram [[runs]] viral with anti-RSS slogan\n",
      "Original prediction: 0, Adversarial prediction: 0\n",
      "--------------------------------------------------\n",
      "Original: [[Separatist]] Geelani tipped for Pakistan's highest civil [[award]] within hours he spits venom against India\n",
      "Adversarial: [[Hyphenate]] Geelani tipped for Pakistan's highest civil [[awards]] within hours he spits venom against India\n",
      "Original prediction: 1, Adversarial prediction: 0\n",
      "--------------------------------------------------\n",
      "Original: Wealthy Indian [[didnt]] throw [[money]] in air in New York over Modi win, its a [[fake]] [[video]]\n",
      "Adversarial: Wealthy Indian [[alot]] throw [[liquid]] in air in New York over Modi win, its a [[phonies]] [[movies]]\n",
      "Original prediction: 0, Adversarial prediction: 1\n",
      "--------------------------------------------------\n",
      "Original: Mamata Banerjee becomes [[fake]] news [[target]] again as [[old]] post [[goes]] viral after BJP run-ins\n",
      "Adversarial: Mamata Banerjee becomes [[bogus]] news [[destined]] again as [[older]] post [[vanishes]] viral after BJP run-ins\n",
      "Original prediction: 0, Adversarial prediction: 0\n",
      "--------------------------------------------------\n",
      "Original: BJP tweets old [[fake]] [[letter]] claiming Sonia [[Gandhi]] wanted to divide [[Hindus]] in Karnataka\n",
      "Adversarial: BJP tweets old [[untruthful]] [[letters]] claiming Sonia [[Ghandi]] wanted to divide [[Vedas]] in Karnataka\n",
      "Original prediction: 0, Adversarial prediction: 0\n",
      "--------------------------------------------------\n",
      "Original: [[Was]] Tricolor hoisted at Lal Chowk in Srinagar on the occasion of Indias 74th Independence Day? Know the [[truth]]\n",
      "Adversarial: [[Constituted]] Tricolor hoisted at Lal Chowk in Srinagar on the occasion of Indias 74th Independence Day? Know the [[truths]]\n",
      "Original prediction: 0, Adversarial prediction: 1\n",
      "--------------------------------------------------\n",
      "Original: No, these photos do not show Hindus being attacked by 'goons' working for an Indian state's chief minister\n",
      "Adversarial: No, these photos do not show Hindus being attacked by 'goons' working for an Indian state's chief minister\n",
      "Original prediction: 0, Adversarial prediction: 0\n",
      "--------------------------------------------------\n"
     ]
    }
   ],
   "source": [
    "import pandas as pd\n",
    "\n",
    "# Load the attack log\n",
    "df = pd.read_csv(\"attack_log.csv\")\n",
    "\n",
    "# Extract relevant columns\n",
    "original_texts = df[\"original_text\"].tolist()\n",
    "adversarial_texts = df[\"perturbed_text\"].tolist()\n",
    "y_pred = df[\"original_output\"].tolist()\n",
    "y_adv_pred = df[\"perturbed_output\"].tolist()\n",
    "\n",
    "# Display comparisons\n",
    "for i, (orig, adv) in enumerate(zip(original_texts, adversarial_texts)):\n",
    "    print(f\"Original: {orig}\")\n",
    "    print(f\"Adversarial: {adv}\")\n",
    "    print(f\"Original prediction: {y_pred[i]}, Adversarial prediction: {y_adv_pred[i]}\")\n",
    "    print(\"-\" * 50)\n"
   ]
  },
  {
   "cell_type": "code",
   "execution_count": 19,
   "id": "1ac80222-f764-4855-9e02-0735a622ec57",
   "metadata": {},
   "outputs": [
    {
     "name": "stderr",
     "output_type": "stream",
     "text": [
      "Some weights of DistilBertForSequenceClassification were not initialized from the model checkpoint at distilbert-base-uncased and are newly initialized: ['classifier.bias', 'classifier.weight', 'pre_classifier.bias', 'pre_classifier.weight']\n",
      "You should probably TRAIN this model on a down-stream task to be able to use it for predictions and inference.\n",
      "Device set to use cpu\n",
      "Failed to determine 'entailment' label id from the label2id mapping in the model config. Setting to -1. Define a descriptive label2id mapping in the model config to ensure correct outputs.\n"
     ]
    },
    {
     "name": "stdout",
     "output_type": "stream",
     "text": [
      "Saved results to zero_shot_results.csv\n"
     ]
    }
   ],
   "source": [
    "import pandas as pd\n",
    "from transformers import pipeline\n",
    "\n",
    "# Load the zero-shot classification pipeline\n",
    "zero_shot_classifier = pipeline(\"zero-shot-classification\", model=model_name)\n",
    "\n",
    "# Define the candidate labels\n",
    "candidate_labels = [\"real\", \"fake\"]\n",
    "\n",
    "# Run classification and store results\n",
    "results = []\n",
    "for i, statement in enumerate(test_df['Statement'].tolist()[:10]):\n",
    "    result = zero_shot_classifier(statement, candidate_labels)\n",
    "    top_label = result['labels'][0]\n",
    "    top_score = result['scores'][0]\n",
    "    results.append({\n",
    "        \"Statement\": statement,\n",
    "        \"Predicted Label\": top_label,\n",
    "        \"Confidence Score\": top_score,\n",
    "        \"All Scores\": result['scores'],\n",
    "        \"All Labels\": result['labels']\n",
    "    })\n",
    "\n",
    "# Convert results to DataFrame\n",
    "results_df = pd.DataFrame(results)\n",
    "\n",
    "# Save to CSV\n",
    "results_df.to_csv(\"zero_shot_results_disti.csv\", index=False)\n",
    "\n",
    "print(\"Saved results to zero_shot_results.csv\")\n"
   ]
  },
  {
   "cell_type": "code",
   "execution_count": 20,
   "id": "8305a6c6-237d-4574-b70d-6497004cad47",
   "metadata": {},
   "outputs": [
    {
     "data": {
      "text/html": [],
      "text/plain": [
       "<IPython.core.display.HTML object>"
      ]
     },
     "metadata": {},
     "output_type": "display_data"
    },
    {
     "name": "stdout",
     "output_type": "stream",
     "text": [
      "Total samples:    853\n",
      "Correctly classified:   815\n",
      "Incorrectly classified: 38\n",
      "Accuracy: 0.9555\n"
     ]
    }
   ],
   "source": [
    "import pandas as pd\n",
    "\n",
    "# 1) Get predictions from your Trainer\n",
    "preds   = trainer.predict(test_dataset)\n",
    "y_true  = test_df['labels'].values\n",
    "y_pred  = preds.predictions.argmax(axis=1)\n",
    "\n",
    "# 2) Build comparison DataFrame\n",
    "df_compare = pd.DataFrame({\n",
    "    \"Statement\":     test_df['Statement'].tolist(),\n",
    "    \"Actual (y)\":    y_true,\n",
    "    \"Predicted (ŷ)\": y_pred\n",
    "})\n",
    "\n",
    "# 3) Compute totals\n",
    "total_samples    = len(df_compare)\n",
    "correct_count    = (df_compare[\"Actual (y)\"] == df_compare[\"Predicted (ŷ)\"]).sum()\n",
    "incorrect_count  = total_samples - correct_count\n",
    "\n",
    "print(f\"Total samples:    {total_samples}\")\n",
    "print(f\"Correctly classified:   {correct_count}\")\n",
    "print(f\"Incorrectly classified: {incorrect_count}\")\n",
    "print(f\"Accuracy: {correct_count/total_samples:.4f}\")\n"
   ]
  },
  {
   "cell_type": "code",
   "execution_count": 21,
   "id": "0a0ac6df-ac0f-4530-aadf-21ef5d8a73ca",
   "metadata": {},
   "outputs": [
    {
     "data": {
      "application/vnd.jupyter.widget-view+json": {
       "model_id": "f3545bd0066444ebb70acf2d7cfa5050",
       "version_major": 2,
       "version_minor": 0
      },
      "text/plain": [
       "Map:   0%|          | 0/100 [00:00<?, ? examples/s]"
      ]
     },
     "metadata": {},
     "output_type": "display_data"
    },
    {
     "data": {
      "application/vnd.jupyter.widget-view+json": {
       "model_id": "5bcd4870ca664a1ebc65d393c20e3994",
       "version_major": 2,
       "version_minor": 0
      },
      "text/plain": [
       "Map:   0%|          | 0/853 [00:00<?, ? examples/s]"
      ]
     },
     "metadata": {},
     "output_type": "display_data"
    },
    {
     "name": "stderr",
     "output_type": "stream",
     "text": [
      "Some weights of DistilBertForSequenceClassification were not initialized from the model checkpoint at distilbert-base-uncased and are newly initialized: ['classifier.bias', 'classifier.weight', 'pre_classifier.bias', 'pre_classifier.weight']\n",
      "You should probably TRAIN this model on a down-stream task to be able to use it for predictions and inference.\n",
      "C:\\Users\\ayush\\AppData\\Local\\Temp\\ipykernel_25416\\2820914751.py:35: FutureWarning: `tokenizer` is deprecated and will be removed in version 5.0.0 for `Trainer.__init__`. Use `processing_class` instead.\n",
      "  trainer = Trainer(\n"
     ]
    },
    {
     "data": {
      "text/html": [
       "\n",
       "    <div>\n",
       "      \n",
       "      <progress value='39' max='39' style='width:300px; height:20px; vertical-align: middle;'></progress>\n",
       "      [39/39 05:33, Epoch 3/3]\n",
       "    </div>\n",
       "    <table border=\"1\" class=\"dataframe\">\n",
       "  <thead>\n",
       " <tr style=\"text-align: left;\">\n",
       "      <th>Epoch</th>\n",
       "      <th>Training Loss</th>\n",
       "      <th>Validation Loss</th>\n",
       "    </tr>\n",
       "  </thead>\n",
       "  <tbody>\n",
       "    <tr>\n",
       "      <td>1</td>\n",
       "      <td>No log</td>\n",
       "      <td>0.476080</td>\n",
       "    </tr>\n",
       "    <tr>\n",
       "      <td>2</td>\n",
       "      <td>No log</td>\n",
       "      <td>0.309171</td>\n",
       "    </tr>\n",
       "    <tr>\n",
       "      <td>3</td>\n",
       "      <td>No log</td>\n",
       "      <td>0.269261</td>\n",
       "    </tr>\n",
       "  </tbody>\n",
       "</table><p>"
      ],
      "text/plain": [
       "<IPython.core.display.HTML object>"
      ]
     },
     "metadata": {},
     "output_type": "display_data"
    },
    {
     "data": {
      "text/plain": [
       "TrainOutput(global_step=39, training_loss=0.3382482039622771, metrics={'train_runtime': 338.3278, 'train_samples_per_second': 0.887, 'train_steps_per_second': 0.115, 'total_flos': 2406146108400.0, 'train_loss': 0.3382482039622771, 'epoch': 3.0})"
      ]
     },
     "execution_count": 21,
     "metadata": {},
     "output_type": "execute_result"
    }
   ],
   "source": [
    "from transformers import AutoModelForSequenceClassification, Trainer, TrainingArguments, AutoTokenizer\n",
    "from datasets import Dataset\n",
    "from sklearn.model_selection import train_test_split\n",
    "\n",
    "# Step 1: Take a small few-shot labeled dataset\n",
    "few_shot_df = train_df.sample(n=100, random_state=42)\n",
    "eval_df = test_df.copy()\n",
    "\n",
    "# Step 2: Convert to Hugging Face Dataset\n",
    "few_shot_dataset = Dataset.from_pandas(few_shot_df)\n",
    "eval_dataset = Dataset.from_pandas(eval_df)\n",
    "\n",
    "# Step 3: Tokenization\n",
    "tokenizer = AutoTokenizer.from_pretrained(model_name)\n",
    "\n",
    "def tokenize(batch):\n",
    "    return tokenizer(batch['Statement'], padding=True, truncation=True)\n",
    "\n",
    "few_shot_dataset = few_shot_dataset.map(tokenize, batched=True)\n",
    "eval_dataset = eval_dataset.map(tokenize, batched=True)\n",
    "\n",
    "# Step 4: Load model and train\n",
    "model = AutoModelForSequenceClassification.from_pretrained(model_name, num_labels=2)\n",
    "\n",
    "training_args = TrainingArguments(\n",
    "    output_dir=\"./fewshot-results\",\n",
    "    per_device_train_batch_size=8,\n",
    "    per_device_eval_batch_size=16,\n",
    "    num_train_epochs=3,\n",
    "    eval_strategy=\"epoch\",\n",
    "    save_strategy=\"no\",\n",
    "    logging_dir=\"./fewshot-logs\"\n",
    ")\n",
    "\n",
    "trainer = Trainer(\n",
    "    model=model,\n",
    "    args=training_args,\n",
    "    train_dataset=few_shot_dataset,\n",
    "    eval_dataset=eval_dataset,\n",
    "    tokenizer=tokenizer\n",
    ")\n",
    "\n",
    "trainer.train()\n"
   ]
  },
  {
   "cell_type": "code",
   "execution_count": 22,
   "id": "ef16a9ba-e7ab-410d-aa01-5ed827ac68bd",
   "metadata": {},
   "outputs": [
    {
     "name": "stderr",
     "output_type": "stream",
     "text": [
      "Some weights of DistilBertForSequenceClassification were not initialized from the model checkpoint at distilbert-base-uncased and are newly initialized: ['classifier.bias', 'classifier.weight', 'pre_classifier.bias', 'pre_classifier.weight']\n",
      "You should probably TRAIN this model on a down-stream task to be able to use it for predictions and inference.\n",
      "C:\\Users\\ayush\\AppData\\Local\\Temp\\ipykernel_25416\\3099993213.py:13: FutureWarning: `tokenizer` is deprecated and will be removed in version 5.0.0 for `Trainer.__init__`. Use `processing_class` instead.\n",
      "  trainer = Trainer(\n"
     ]
    },
    {
     "data": {
      "text/html": [
       "\n",
       "    <div>\n",
       "      \n",
       "      <progress value='39' max='39' style='width:300px; height:20px; vertical-align: middle;'></progress>\n",
       "      [39/39 05:28, Epoch 3/3]\n",
       "    </div>\n",
       "    <table border=\"1\" class=\"dataframe\">\n",
       "  <thead>\n",
       " <tr style=\"text-align: left;\">\n",
       "      <th>Epoch</th>\n",
       "      <th>Training Loss</th>\n",
       "      <th>Validation Loss</th>\n",
       "    </tr>\n",
       "  </thead>\n",
       "  <tbody>\n",
       "    <tr>\n",
       "      <td>1</td>\n",
       "      <td>No log</td>\n",
       "      <td>0.410512</td>\n",
       "    </tr>\n",
       "    <tr>\n",
       "      <td>2</td>\n",
       "      <td>No log</td>\n",
       "      <td>0.256151</td>\n",
       "    </tr>\n",
       "    <tr>\n",
       "      <td>3</td>\n",
       "      <td>No log</td>\n",
       "      <td>0.256621</td>\n",
       "    </tr>\n",
       "  </tbody>\n",
       "</table><p>"
      ],
      "text/plain": [
       "<IPython.core.display.HTML object>"
      ]
     },
     "metadata": {},
     "output_type": "display_data"
    },
    {
     "data": {
      "text/html": [],
      "text/plain": [
       "<IPython.core.display.HTML object>"
      ]
     },
     "metadata": {},
     "output_type": "display_data"
    },
    {
     "name": "stdout",
     "output_type": "stream",
     "text": [
      "Classification Report:\n",
      "              precision    recall  f1-score     support\n",
      "Fake           0.955614  0.851163  0.900369  430.000000\n",
      "Real           0.863830  0.959811  0.909295  423.000000\n",
      "accuracy       0.905041  0.905041  0.905041    0.905041\n",
      "macro avg      0.909722  0.905487  0.904832  853.000000\n",
      "weighted avg   0.910098  0.905041  0.904795  853.000000\n"
     ]
    },
    {
     "data": {
      "text/plain": [
       "<Figure size 800x600 with 0 Axes>"
      ]
     },
     "metadata": {},
     "output_type": "display_data"
    },
    {
     "data": {
      "image/png": "[encoded data removed]",
      "text/plain": [
       "<Figure size 640x480 with 2 Axes>"
      ]
     },
     "metadata": {},
     "output_type": "display_data"
    }
   ],
   "source": [
    "model = AutoModelForSequenceClassification.from_pretrained(model_name, num_labels=2)\n",
    "\n",
    "training_args = TrainingArguments(\n",
    "    output_dir=\"./fewshot-results\",\n",
    "    per_device_train_batch_size=8,\n",
    "    per_device_eval_batch_size=16,\n",
    "    num_train_epochs=3,\n",
    "    eval_strategy=\"epoch\",  # Corrected from eval_strategy\n",
    "    save_strategy=\"no\",\n",
    "    logging_dir=\"./fewshot-logs\"\n",
    ")\n",
    "\n",
    "trainer = Trainer(\n",
    "    model=model,\n",
    "    args=training_args,\n",
    "    train_dataset=few_shot_dataset,\n",
    "    eval_dataset=eval_dataset,\n",
    "    tokenizer=tokenizer\n",
    ")\n",
    "\n",
    "# Train the model\n",
    "trainer.train()\n",
    "\n",
    "# Evaluate and visualize results\n",
    "preds = trainer.predict(eval_dataset)\n",
    "y_true = preds.label_ids\n",
    "y_pred = np.argmax(preds.predictions, axis=1)\n",
    "\n",
    "# 1. Classification Report\n",
    "report = classification_report(y_true, y_pred, output_dict=True, \n",
    "                              target_names=['Fake', 'Real'])\n",
    "report_df = pd.DataFrame(report).transpose()\n",
    "print(\"Classification Report:\")\n",
    "print(report_df)\n",
    "\n",
    "# 2. Confusion Matrix\n",
    "plt.figure(figsize=(8, 6))\n",
    "cm = confusion_matrix(y_true, y_pred)\n",
    "disp = ConfusionMatrixDisplay(confusion_matrix=cm, display_labels=['Fake', 'Real'])\n",
    "disp.plot(cmap='Blues')\n",
    "plt.title('Confusion Matrix - Few-Shot Learning (100 samples)')\n",
    "plt.savefig('confusion_matrix_fewshot.png')\n",
    "plt.show()\n",
    "\n",
    "# 3. Precision-Recall Curve\n",
    "precision = report_df.loc['Fake', 'precision']\n",
    "recall = report_df.loc['Fake', 'recall']\n",
    "f1 = report_df.loc['Fake', 'f1-score']\n",
    "accuracy = accuracy_score(y_true, y_pred)\n"
   ]
  },
  {
   "cell_type": "code",
   "execution_count": 23,
   "id": "5b8a932b-0373-472d-93d0-da2b22258c43",
   "metadata": {},
   "outputs": [
    {
     "data": {
      "image/png": "[encoded data removed]",
      "text/plain": [
       "<Figure size 1000x600 with 1 Axes>"
      ]
     },
     "metadata": {},
     "output_type": "display_data"
    },
    {
     "name": "stdout",
     "output_type": "stream",
     "text": [
      "\n",
      "Summary of Few-Shot Learning Results (100 samples):\n",
      "Accuracy: 0.91\n",
      "Precision (Fake): 0.96\n",
      "Recall (Fake): 0.85\n",
      "F1 Score (Fake): 0.90\n"
     ]
    }
   ],
   "source": [
    "import seaborn as sns\n",
    "import matplotlib.pyplot as plt\n",
    "\n",
    "# 4. Performance Metrics Visualization\n",
    "plt.figure(figsize=(10, 6))\n",
    "metrics = ['Accuracy', 'Precision (Fake)', 'Recall (Fake)', 'F1 Score (Fake)']\n",
    "values = [accuracy, precision, recall, f1]\n",
    "sns.barplot(x=metrics, y=values)\n",
    "plt.ylim(0, 1.0)\n",
    "plt.title('Few-Shot Model Performance (100 samples)')\n",
    "plt.grid(axis='y', linestyle='--', alpha=0.7)\n",
    "for i, v in enumerate(values):\n",
    "    plt.text(i, v + 0.02, f'{v:.2f}', ha='center')\n",
    "plt.savefig('performance_metrics_fewshot.png')\n",
    "plt.show()\n",
    "\n",
    "# 5. Export results to CSV\n",
    "results_df = pd.DataFrame({\n",
    "    'Metric': metrics,\n",
    "    'Value': values\n",
    "})\n",
    "results_df.to_csv('fewshot_results.csv', index=False)\n",
    "\n",
    "# Print summary\n",
    "print(f\"\\nSummary of Few-Shot Learning Results (100 samples):\")\n",
    "print(f\"Accuracy: {accuracy:.2f}\")\n",
    "print(f\"Precision (Fake): {precision:.2f}\")\n",
    "print(f\"Recall (Fake): {recall:.2f}\")\n",
    "print(f\"F1 Score (Fake): {f1:.2f}\")"
   ]
  },
  {
   "cell_type": "code",
   "execution_count": 24,
   "id": "6200b1b3-8c68-4011-94bc-a4b5d0d17b3d",
   "metadata": {},
   "outputs": [
    {
     "data": {
      "text/html": [],
      "text/plain": [
       "<IPython.core.display.HTML object>"
      ]
     },
     "metadata": {},
     "output_type": "display_data"
    },
    {
     "data": {
      "image/png": "[encoded data removed]",
      "text/plain": [
       "<Figure size 800x500 with 1 Axes>"
      ]
     },
     "metadata": {},
     "output_type": "display_data"
    }
   ],
   "source": [
    "import pandas as pd\n",
    "from sklearn.metrics import accuracy_score, precision_score, recall_score, f1_score\n",
    "import matplotlib.pyplot as plt\n",
    "\n",
    "# ——————————————————————————\n",
    "# 1. Predictions + Ground Truth\n",
    "preds     = trainer.predict(test_dataset)\n",
    "y_true    = preds.label_ids\n",
    "y_pred    = preds.predictions.argmax(axis=1)\n",
    "\n",
    "# ——————————————————————————\n",
    "# 2. Compute Metrics\n",
    "accuracy  = accuracy_score(y_true, y_pred)\n",
    "precision = precision_score(y_true, y_pred, pos_label=1)  # adjust pos_label as needed\n",
    "recall    = recall_score(y_true, y_pred, pos_label=1)\n",
    "f1        = f1_score(y_true, y_pred, pos_label=1)\n",
    "\n",
    "# ——————————————————————————\n",
    "# 3. Plotting with matplotlib\n",
    "metrics = ['Accuracy', 'Precision', 'Recall', 'F1']\n",
    "values  = [accuracy, precision, recall, f1]\n",
    "\n",
    "plt.figure(figsize=(8,5))\n",
    "bars = plt.bar(range(len(values)), values)\n",
    "plt.ylim(0, 1.0)\n",
    "plt.xticks(range(len(values)), metrics)\n",
    "plt.title('Model Performance Metrics')\n",
    "plt.ylabel('Score')\n",
    "\n",
    "# annotate values above bars\n",
    "for bar, v in zip(bars, values):\n",
    "    plt.text(bar.get_x() + bar.get_width()/2, v + 0.02, f'{v:.2f}',\n",
    "             ha='center', va='bottom')\n",
    "\n",
    "plt.grid(axis='y', linestyle='--', alpha=0.5)\n",
    "plt.tight_layout()\n",
    "plt.show()\n",
    "\n",
    "# ——————————————————————————\n",
    "# 4. (Optional) Export to CSV\n",
    "results_df = pd.DataFrame({'Metric': metrics, 'Value': values})\n",
    "results_df.to_csv('performance_metrics.csv', index=False)\n"
   ]
  },
  {
   "cell_type": "code",
   "execution_count": null,
   "id": "2241754d-a55f-42cf-add5-b73679f793d2",
   "metadata": {},
   "outputs": [
    {
     "data": {
      "application/vnd.jupyter.widget-view+json": {
       "model_id": "da3bc80728034996a4ea40a13c07b967",
       "version_major": 2,
       "version_minor": 0
      },
      "text/plain": [
       "Map:   0%|          | 0/4261 [00:00<?, ? examples/s]"
      ]
     },
     "metadata": {},
     "output_type": "display_data"
    },
    {
     "name": "stderr",
     "output_type": "stream",
     "text": [
      "Some weights of DistilBertForSequenceClassification were not initialized from the model checkpoint at distilbert-base-uncased and are newly initialized: ['classifier.bias', 'classifier.weight', 'pre_classifier.bias', 'pre_classifier.weight']\n",
      "You should probably TRAIN this model on a down-stream task to be able to use it for predictions and inference.\n",
      "C:\\Users\\ayush\\AppData\\Local\\Temp\\ipykernel_25416\\2620560523.py:39: FutureWarning: `tokenizer` is deprecated and will be removed in version 5.0.0 for `Trainer.__init__`. Use `processing_class` instead.\n",
      "  trainer = Trainer(\n"
     ]
    },
    {
     "data": {
      "text/html": [
       "\n",
       "    <div>\n",
       "      \n",
       "      <progress value='117' max='134' style='width:300px; height:20px; vertical-align: middle;'></progress>\n",
       "      [117/134 03:45 < 00:33, 0.51 it/s]\n",
       "    </div>\n",
       "    "
      ],
      "text/plain": [
       "<IPython.core.display.HTML object>"
      ]
     },
     "metadata": {},
     "output_type": "display_data"
    }
   ],
   "source": [
    "import pandas as pd\n",
    "from transformers import AutoModelForSequenceClassification, AutoTokenizer, Trainer, TrainingArguments\n",
    "from datasets import Dataset\n",
    "from sklearn.metrics import accuracy_score, precision_score, recall_score, f1_score\n",
    "import matplotlib.pyplot as plt\n",
    "import numpy as np\n",
    "\n",
    "# 1. Load your test data\n",
    "# Adjust the path and encoding as needed\n",
    "test_df = pd.read_csv('IFND.csv', encoding='latin1')\n",
    "# Make sure label column is named 'labels'\n",
    "if 'labels' not in test_df.columns and 'Label' in test_df.columns:\n",
    "    test_df = test_df.rename(columns={'Label': 'labels'})\n",
    "\n",
    "# 2. Create Hugging Face Dataset\n",
    "test_dataset = Dataset.from_pandas(test_df)\n",
    "\n",
    "# 3. Tokenize the test data\n",
    "model_name = \"distilbert-base-uncased\"  # or \"roberta-base\"\n",
    "tokenizer = AutoTokenizer.from_pretrained(model_name)\n",
    "\n",
    "def tokenize(batch):\n",
    "    return tokenizer(batch['Statement'], padding=True, truncation=True, max_length=128)\n",
    "\n",
    "test_dataset = test_dataset.map(tokenize, batched=True)\n",
    "\n",
    "# 4. Load the base (pretrained, untrained) model\n",
    "model = AutoModelForSequenceClassification.from_pretrained(model_name, num_labels=2)\n",
    "\n",
    "# 5. Set up Trainer (no training, just evaluation)\n",
    "training_args = TrainingArguments(\n",
    "    output_dir=\"./base-eval\",\n",
    "    per_device_eval_batch_size=32,\n",
    "    do_train=False,\n",
    "    do_eval=True,\n",
    "    logging_dir=\"./base-eval-logs\"\n",
    ")\n",
    "\n",
    "trainer = Trainer(\n",
    "    model=model,\n",
    "    args=training_args,\n",
    "    eval_dataset=test_dataset,\n",
    "    tokenizer=tokenizer\n",
    ")\n",
    "\n",
    "# 6. Run predictions on the test set\n",
    "preds = trainer.predict(test_dataset)\n",
    "y_true = preds.label_ids\n",
    "y_pred = np.argmax(preds.predictions, axis=1)\n",
    "\n",
    "# 7. Compute metrics\n",
    "accuracy  = accuracy_score(y_true, y_pred)\n",
    "precision = precision_score(y_true, y_pred, pos_label=1)\n",
    "recall    = recall_score(y_true, y_pred, pos_label=1)\n",
    "f1        = f1_score(y_true, y_pred, pos_label=1)\n",
    "\n",
    "# 8. Visualize results\n",
    "metrics = ['Accuracy', 'Precision', 'Recall', 'F1']\n",
    "values  = [accuracy, precision, recall, f1]\n",
    "\n",
    "plt.figure(figsize=(8,5))\n",
    "bars = plt.bar(range(len(values)), values)\n",
    "plt.ylim(0, 1.0)\n",
    "plt.xticks(range(len(values)), metrics)\n",
    "plt.title('Base Model Performance (Before Training)')\n",
    "plt.ylabel('Score')\n",
    "\n",
    "# annotate values above bars\n",
    "for bar, v in zip(bars, values):\n",
    "    plt.text(bar.get_x() + bar.get_width()/2, v + 0.02, f'{v:.2f}',\n",
    "             ha='center', va='bottom')\n",
    "\n",
    "plt.grid(axis='y', linestyle='--', alpha=0.5)\n",
    "plt.tight_layout()\n",
    "plt.show()\n",
    "\n",
    "# 9. (Optional) Export to CSV\n",
    "results_df = pd.DataFrame({'Metric': metrics, 'Value': values})\n",
    "results_df.to_csv('base_model_performance.csv', index=False)\n",
    "\n",
    "print(\"Base model evaluation complete. Results saved to base_model_performance.csv\")\n"
   ]
  }
 ],
 "metadata": {
  "kernelspec": {
   "display_name": "Python 3 (ipykernel)",
   "language": "python",
   "name": "python3"
  },
  "language_info": {
   "codemirror_mode": {
    "name": "ipython",
    "version": 3
   },
   "file_extension": ".py",
   "mimetype": "text/x-python",
   "name": "python",
   "nbconvert_exporter": "python",
   "pygments_lexer": "ipython3",
   "version": "3.9.13"
  }
 },
 "nbformat": 4,
 "nbformat_minor": 5
}
